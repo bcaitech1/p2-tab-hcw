{
 "cells": [
  {
   "cell_type": "markdown",
   "id": "48771fa0",
   "metadata": {},
   "source": [
    "# output label 비율 비교\n",
    "-  각 결과(12월예측) label별 비율"
   ]
  },
  {
   "cell_type": "code",
   "execution_count": 46,
   "id": "e39c9f73",
   "metadata": {},
   "outputs": [],
   "source": [
    "import pandas as pd\n",
    "import matplotlib.pyplot as plt\n",
    "import seaborn as sns"
   ]
  },
  {
   "cell_type": "code",
   "execution_count": 76,
   "id": "fedf9d75",
   "metadata": {
    "tags": []
   },
   "outputs": [],
   "source": [
    "output_1 = pd.read_csv('code/output/output.csv')\n",
    "output_2 = pd.read_csv('code/output/output1.csv')\n",
    "output_3 = pd.read_csv('code/output/output4.csv')"
   ]
  },
  {
   "cell_type": "code",
   "execution_count": 48,
   "id": "48e29780",
   "metadata": {},
   "outputs": [
    {
     "data": {
      "text/html": [
       "<div>\n",
       "<style scoped>\n",
       "    .dataframe tbody tr th:only-of-type {\n",
       "        vertical-align: middle;\n",
       "    }\n",
       "\n",
       "    .dataframe tbody tr th {\n",
       "        vertical-align: top;\n",
       "    }\n",
       "\n",
       "    .dataframe thead th {\n",
       "        text-align: right;\n",
       "    }\n",
       "</style>\n",
       "<table border=\"1\" class=\"dataframe\">\n",
       "  <thead>\n",
       "    <tr style=\"text-align: right;\">\n",
       "      <th></th>\n",
       "      <th>customer_id</th>\n",
       "      <th>probability</th>\n",
       "    </tr>\n",
       "  </thead>\n",
       "  <tbody>\n",
       "    <tr>\n",
       "      <th>0</th>\n",
       "      <td>12346</td>\n",
       "      <td>0.083769</td>\n",
       "    </tr>\n",
       "    <tr>\n",
       "      <th>1</th>\n",
       "      <td>12347</td>\n",
       "      <td>0.236967</td>\n",
       "    </tr>\n",
       "    <tr>\n",
       "      <th>2</th>\n",
       "      <td>12348</td>\n",
       "      <td>0.145038</td>\n",
       "    </tr>\n",
       "    <tr>\n",
       "      <th>3</th>\n",
       "      <td>12349</td>\n",
       "      <td>0.211734</td>\n",
       "    </tr>\n",
       "    <tr>\n",
       "      <th>4</th>\n",
       "      <td>12350</td>\n",
       "      <td>0.102935</td>\n",
       "    </tr>\n",
       "  </tbody>\n",
       "</table>\n",
       "</div>"
      ],
      "text/plain": [
       "   customer_id  probability\n",
       "0        12346     0.083769\n",
       "1        12347     0.236967\n",
       "2        12348     0.145038\n",
       "3        12349     0.211734\n",
       "4        12350     0.102935"
      ]
     },
     "execution_count": 48,
     "metadata": {},
     "output_type": "execute_result"
    }
   ],
   "source": [
    "output_1.head()"
   ]
  },
  {
   "cell_type": "code",
   "execution_count": 49,
   "id": "9e435b05",
   "metadata": {},
   "outputs": [],
   "source": [
    "def output_label(output_1) :\n",
    "    if output_1['probability'] >= 0.5:\n",
    "        return 1\n",
    "    else :\n",
    "        return 0"
   ]
  },
  {
   "cell_type": "code",
   "execution_count": 62,
   "id": "2399ac4f",
   "metadata": {},
   "outputs": [],
   "source": [
    "# output_1['label'] = output_1.apply(output_label,axis=1)\n",
    "# output_2['label'] = output_2.apply(output_label,axis=1)\n",
    "# output_3['label'] = output_3.apply(output_label,axis=1)"
   ]
  },
  {
   "cell_type": "code",
   "execution_count": 36,
   "id": "4a19bc6b",
   "metadata": {},
   "outputs": [
    {
     "name": "stdout",
     "output_type": "stream",
     "text": [
      "0 : 5424 / 1 : 490\n",
      "0 : 0.9171457558336151 / 1 : 0.08285424416638484\n"
     ]
    },
    {
     "data": {
      "image/png": "[encoded data removed]",
      "text/plain": [
       "<Figure size 432x288 with 1 Axes>"
      ]
     },
     "metadata": {
      "needs_background": "light"
     },
     "output_type": "display_data"
    }
   ],
   "source": [
    "sns.countplot(x='label',data=output_1);\n",
    "a = output_1[output_1['label']==0]['customer_id'].count()\n",
    "b = output_1[output_1['label']==1]['customer_id'].count()\n",
    "print('0 :',a,'/ 1 :',b)\n",
    "c = a+b\n",
    "print('0 :',a/c,'/ 1 :',b/c)\n",
    "plt.show()"
   ]
  },
  {
   "cell_type": "code",
   "execution_count": 14,
   "id": "ad1d4d70",
   "metadata": {},
   "outputs": [
    {
     "name": "stdout",
     "output_type": "stream",
     "text": [
      "0 : 5480 / 1 : 434\n",
      "0 : 0.9266148123097734 / 1 : 0.07338518769022657\n"
     ]
    },
    {
     "data": {
      "image/png": "[encoded data removed]",
      "text/plain": [
       "<Figure size 432x288 with 1 Axes>"
      ]
     },
     "metadata": {
      "needs_background": "light"
     },
     "output_type": "display_data"
    }
   ],
   "source": [
    "sns.countplot(x='label',data=output_2);\n",
    "a = output_2[output_2['label']==0]['customer_id'].count()\n",
    "b = output_2[output_2['label']==1]['customer_id'].count()\n",
    "print('0 :',a,'/ 1 :',b)\n",
    "c = a+b\n",
    "print('0 :',a/c,'/ 1 :',b/c)\n",
    "plt.show()"
   ]
  },
  {
   "cell_type": "code",
   "execution_count": 61,
   "id": "eba0dfa7",
   "metadata": {},
   "outputs": [],
   "source": [
    "def output_label(output_3) :\n",
    "    if output_3['probability'] >= 0.5:\n",
    "        return 1\n",
    "    else :\n",
    "        return 0"
   ]
  },
  {
   "cell_type": "code",
   "execution_count": 77,
   "id": "aee0808d",
   "metadata": {},
   "outputs": [],
   "source": [
    "output_1['label'] = output_1.apply(output_label,axis=1)\n",
    "output_2['label'] = output_2.apply(output_label,axis=1)\n",
    "output_3['label'] = output_3.apply(output_label,axis=1)"
   ]
  },
  {
   "cell_type": "code",
   "execution_count": 59,
   "id": "5e163dd0",
   "metadata": {},
   "outputs": [
    {
     "name": "stdout",
     "output_type": "stream",
     "text": [
      "0 : 5402 / 1 : 512\n",
      "0 : 0.9134257693608386 / 1 : 0.08657423063916131\n"
     ]
    },
    {
     "data": {
      "image/png": "[encoded data removed]",
      "text/plain": [
       "<Figure size 432x288 with 1 Axes>"
      ]
     },
     "metadata": {
      "needs_background": "light"
     },
     "output_type": "display_data"
    }
   ],
   "source": [
    "#mean_total 뻇을때... 꽤 괜찮은데ㅔ......성능 개별루....\n",
    "sns.countplot(x='label',data=output_3);\n",
    "a = output_3[output_3['label']==0]['customer_id'].count()\n",
    "b = output_3[output_3['label']==1]['customer_id'].count()\n",
    "print('0 :',a,'/ 1 :',b)\n",
    "c = a+b\n",
    "print('0 :',a/c,'/ 1 :',b/c)\n",
    "plt.show()"
   ]
  },
  {
   "cell_type": "code",
   "execution_count": 63,
   "id": "a68edfb9",
   "metadata": {},
   "outputs": [
    {
     "name": "stdout",
     "output_type": "stream",
     "text": [
      "0 : 5407 / 1 : 507\n",
      "0 : 0.9142712208319242 / 1 : 0.08572877916807575\n"
     ]
    },
    {
     "data": {
      "image/png": "[encoded data removed]",
      "text/plain": [
       "<Figure size 432x288 with 1 Axes>"
      ]
     },
     "metadata": {
      "needs_background": "light"
     },
     "output_type": "display_data"
    }
   ],
   "source": [
    "# last bought 뺸 결과  최고점~~~~ㅜㅠㅠ여기서 끝\n",
    "sns.countplot(x='label',data=output_3);\n",
    "a = output_3[output_3['label']==0]['customer_id'].count()\n",
    "b = output_3[output_3['label']==1]['customer_id'].count()\n",
    "print('0 :',a,'/ 1 :',b)\n",
    "c = a+b\n",
    "print('0 :',a/c,'/ 1 :',b/c)\n",
    "plt.show()"
   ]
  },
  {
   "cell_type": "code",
   "execution_count": 66,
   "id": "d323ab30",
   "metadata": {},
   "outputs": [
    {
     "name": "stdout",
     "output_type": "stream",
     "text": [
      "0 : 5632 / 1 : 282\n",
      "0 : 0.9523165370307745 / 1 : 0.047683462969225564\n"
     ]
    },
    {
     "data": {
      "image/png": "[encoded data removed]",
      "text/plain": [
       "<Figure size 432x288 with 1 Axes>"
      ]
     },
     "metadata": {
      "needs_background": "light"
     },
     "output_type": "display_data"
    }
   ],
   "source": [
    "# cumsum 뺸 결과\n",
    "sns.countplot(x='label',data=output_3);\n",
    "a = output_3[output_3['label']==0]['customer_id'].count()\n",
    "b = output_3[output_3['label']==1]['customer_id'].count()\n",
    "print('0 :',a,'/ 1 :',b)\n",
    "c = a+b\n",
    "print('0 :',a/c,'/ 1 :',b/c)\n",
    "plt.show()"
   ]
  },
  {
   "cell_type": "code",
   "execution_count": 69,
   "id": "d70a4be3",
   "metadata": {},
   "outputs": [
    {
     "name": "stdout",
     "output_type": "stream",
     "text": [
      "0 : 5480 / 1 : 434\n",
      "0 : 0.9266148123097734 / 1 : 0.07338518769022657\n"
     ]
    },
    {
     "data": {
      "image/png": "[encoded data removed]",
      "text/plain": [
       "<Figure size 432x288 with 1 Axes>"
      ]
     },
     "metadata": {
      "needs_background": "light"
     },
     "output_type": "display_data"
    }
   ],
   "source": [
    "# cumsum 다시 넣고, mean std, max, skew, sum만\n",
    "sns.countplot(x='label',data=output_3);\n",
    "a = output_3[output_3['label']==0]['customer_id'].count()\n",
    "b = output_3[output_3['label']==1]['customer_id'].count()\n",
    "print('0 :',a,'/ 1 :',b)\n",
    "c = a+b\n",
    "print('0 :',a/c,'/ 1 :',b/c)\n",
    "plt.show()"
   ]
  },
  {
   "cell_type": "code",
   "execution_count": 72,
   "id": "56a8e3ad",
   "metadata": {},
   "outputs": [
    {
     "name": "stdout",
     "output_type": "stream",
     "text": [
      "0 : 5415 / 1 : 499\n",
      "0 : 0.9156239431856611 / 1 : 0.08437605681433885\n"
     ]
    },
    {
     "data": {
      "image/png": "[encoded data removed]",
      "text/plain": [
       "<Figure size 432x288 with 1 Axes>"
      ]
     },
     "metadata": {
      "needs_background": "light"
     },
     "output_type": "display_data"
    }
   ],
   "source": [
    "# count만 제외\n",
    "sns.countplot(x='label',data=output_3);\n",
    "a = output_3[output_3['label']==0]['customer_id'].count()\n",
    "b = output_3[output_3['label']==1]['customer_id'].count()\n",
    "print('0 :',a,'/ 1 :',b)\n",
    "c = a+b\n",
    "print('0 :',a/c,'/ 1 :',b/c)\n",
    "plt.show()"
   ]
  },
  {
   "cell_type": "code",
   "execution_count": 75,
   "id": "27f5357d",
   "metadata": {},
   "outputs": [
    {
     "name": "stdout",
     "output_type": "stream",
     "text": [
      "0 : 5370 / 1 : 544\n",
      "0 : 0.9080148799458911 / 1 : 0.09198512005410889\n"
     ]
    },
    {
     "data": {
      "image/png": "[encoded data removed]",
      "text/plain": [
       "<Figure size 432x288 with 1 Axes>"
      ]
     },
     "metadata": {
      "needs_background": "light"
     },
     "output_type": "display_data"
    }
   ],
   "source": [
    "# count만 제외, importance 삭제\n",
    "sns.countplot(x='label',data=output_3);\n",
    "a = output_3[output_3['label']==0]['customer_id'].count()\n",
    "b = output_3[output_3['label']==1]['customer_id'].count()\n",
    "print('0 :',a,'/ 1 :',b)\n",
    "c = a+b\n",
    "print('0 :',a/c,'/ 1 :',b/c)\n",
    "plt.show()"
   ]
  },
  {
   "cell_type": "code",
   "execution_count": 78,
   "id": "23f405e3",
   "metadata": {},
   "outputs": [
    {
     "name": "stdout",
     "output_type": "stream",
     "text": [
      "0 : 5368 / 1 : 546\n",
      "0 : 0.9076766993574569 / 1 : 0.09232330064254311\n"
     ]
    },
    {
     "data": {
      "image/png": "[encoded data removed]",
      "text/plain": [
       "<Figure size 432x288 with 1 Axes>"
      ]
     },
     "metadata": {
      "needs_background": "light"
     },
     "output_type": "display_data"
    }
   ],
   "source": [
    "# count도 다시 포함 이걸로 낼걸...\n",
    "sns.countplot(x='label',data=output_3);\n",
    "a = output_3[output_3['label']==0]['customer_id'].count()\n",
    "b = output_3[output_3['label']==1]['customer_id'].count()\n",
    "print('0 :',a,'/ 1 :',b)\n",
    "c = a+b\n",
    "print('0 :',a/c,'/ 1 :',b/c)\n",
    "plt.show()"
   ]
  },
  {
   "cell_type": "code",
   "execution_count": null,
   "id": "4863c1c2",
   "metadata": {},
   "outputs": [],
   "source": []
  }
 ],
 "metadata": {
  "kernelspec": {
   "display_name": "Python 3",
   "language": "python",
   "name": "python3"
  },
  "language_info": {
   "codemirror_mode": {
    "name": "ipython",
    "version": 3
   },
   "file_extension": ".py",
   "mimetype": "text/x-python",
   "name": "python",
   "nbconvert_exporter": "python",
   "pygments_lexer": "ipython3",
   "version": "3.7.7"
  }
 },
 "nbformat": 4,
 "nbformat_minor": 5
}
